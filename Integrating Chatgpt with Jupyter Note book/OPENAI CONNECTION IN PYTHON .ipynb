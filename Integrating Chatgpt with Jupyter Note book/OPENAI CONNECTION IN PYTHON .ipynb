{
 "cells": [
  {
   "cell_type": "code",
   "execution_count": 3,
   "id": "3be89a80",
   "metadata": {},
   "outputs": [],
   "source": [
    "import openai\n",
    "import time\n",
    "\n",
    "openai.api_key = \"Enter your Key\"\n",
    "\n",
    "def get_gpt_response(prompt, max_tokens=200, retry=3):\n",
    "    for _ in range(retry):\n",
    "        try:\n",
    "            response = openai.ChatCompletion.create(\n",
    "                model=\"gpt-3.5-turbo\",\n",
    "                messages=[\n",
    "                    {\"role\": \"system\", \"content\": \"You are a helpful assistant.\"},\n",
    "                    {\"role\": \"user\", \"content\": prompt}\n",
    "                ],\n",
    "                max_tokens=max_tokens,\n",
    "                temperature=0.7\n",
    "            )\n",
    "            return response[\"choices\"][0][\"message\"][\"content\"]\n",
    "        except openai.error.RateLimitError:\n",
    "            print(\"Rate limit exceeded. Retrying in 5 seconds...\")\n",
    "            time.sleep(5)\n",
    "    return \"Failed to get response due to rate limit.\"\n",
    "\n",
    "prompt = \"Hi, how are you?\"\n",
    "response = get_gpt_response(prompt)\n"
   ]
  },
  {
   "cell_type": "code",
   "execution_count": null,
   "id": "d2d23012",
   "metadata": {},
   "outputs": [],
   "source": []
  },
  {
   "cell_type": "code",
   "execution_count": null,
   "id": "247c1a65",
   "metadata": {},
   "outputs": [],
   "source": []
  },
  {
   "cell_type": "code",
   "execution_count": null,
   "id": "fd743014",
   "metadata": {},
   "outputs": [],
   "source": []
  }
 ],
 "metadata": {
  "kernelspec": {
   "display_name": "Python 3 (ipykernel)",
   "language": "python",
   "name": "python3"
  },
  "language_info": {
   "codemirror_mode": {
    "name": "ipython",
    "version": 3
   },
   "file_extension": ".py",
   "mimetype": "text/x-python",
   "name": "python",
   "nbconvert_exporter": "python",
   "pygments_lexer": "ipython3",
   "version": "3.11.5"
  }
 },
 "nbformat": 4,
 "nbformat_minor": 5
}
