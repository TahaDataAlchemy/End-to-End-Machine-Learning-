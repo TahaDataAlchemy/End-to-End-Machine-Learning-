{
 "cells": [
  {
   "cell_type": "code",
   "execution_count": 18,
   "id": "b9d51197",
   "metadata": {},
   "outputs": [],
   "source": [
    "import pandas as pd\n",
    "import numpy as np\n",
    "import scipy.stats as stats\n",
    "import matplotlib.pyplot as plt"
   ]
  },
  {
   "cell_type": "code",
   "execution_count": 19,
   "id": "e86c3930",
   "metadata": {},
   "outputs": [],
   "source": [
    "np.random.seed(12)\n",
    "races = [\"asian\",\"black\",\"hispanic\",\"other\",\"white\"]\n",
    "\n",
    "voter_race = np.random.choice(a = races,\n",
    "                             p = [0.05,0.15,0.25,0.05,0.5],\n",
    "                             size = 1000)\n",
    "voter_age = stats.poisson.rvs(loc = 18,\n",
    "                             mu = 30,\n",
    "                             size = 1000)"
   ]
  },
  {
   "cell_type": "code",
   "execution_count": 20,
   "id": "4246aa71",
   "metadata": {},
   "outputs": [],
   "source": [
    "df = pd.DataFrame({\"race\":voter_race,\"age\":voter_age})"
   ]
  },
  {
   "cell_type": "code",
   "execution_count": 21,
   "id": "84ab6e4f",
   "metadata": {},
   "outputs": [],
   "source": [
    "groups = df.groupby(\"race\").groups"
   ]
  },
  {
   "cell_type": "code",
   "execution_count": 22,
   "id": "f763cc1e",
   "metadata": {},
   "outputs": [],
   "source": [
    "asian = voter_age[groups[\"asian\"]]\n",
    "black = voter_age[groups[\"black\"]]\n",
    "hispanic = voter_age[groups[\"hispanic\"]]\n",
    "white = voter_age[groups[\"white\"]]\n",
    "other = voter_age[groups[\"other\"]]"
   ]
  },
  {
   "cell_type": "markdown",
   "id": "e22a66db",
   "metadata": {},
   "source": [
    "The test statistic (1.7744689357329695) indicates the degree of difference among the means of the groups being compared. Larger values of the test statistic suggest greater differences among the group means."
   ]
  },
  {
   "cell_type": "markdown",
   "id": "44297f96",
   "metadata": {},
   "source": [
    "***So P value is very high compared to 0.05 so there is no any significance between the groups and they are not rejecting null hypothesis***"
   ]
  },
  {
   "cell_type": "code",
   "execution_count": 23,
   "id": "6e41b4de",
   "metadata": {},
   "outputs": [
    {
     "data": {
      "text/plain": [
       "F_onewayResult(statistic=1.7744689357329695, pvalue=0.13173183201930463)"
      ]
     },
     "execution_count": 23,
     "metadata": {},
     "output_type": "execute_result"
    }
   ],
   "source": [
    "stats.f_oneway(asian,black,hispanic,white,other)"
   ]
  },
  {
   "cell_type": "code",
   "execution_count": null,
   "id": "c78bf234",
   "metadata": {},
   "outputs": [],
   "source": []
  },
  {
   "cell_type": "code",
   "execution_count": null,
   "id": "e6e930c3",
   "metadata": {},
   "outputs": [],
   "source": []
  }
 ],
 "metadata": {
  "kernelspec": {
   "display_name": "Python 3 (ipykernel)",
   "language": "python",
   "name": "python3"
  },
  "language_info": {
   "codemirror_mode": {
    "name": "ipython",
    "version": 3
   },
   "file_extension": ".py",
   "mimetype": "text/x-python",
   "name": "python",
   "nbconvert_exporter": "python",
   "pygments_lexer": "ipython3",
   "version": "3.11.5"
  }
 },
 "nbformat": 4,
 "nbformat_minor": 5
}
