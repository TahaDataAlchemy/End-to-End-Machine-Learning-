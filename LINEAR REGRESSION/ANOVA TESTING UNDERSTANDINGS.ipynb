{
 "cells": [
  {
   "cell_type": "code",
   "execution_count": 18,
   "id": "beb8eb3e",
   "metadata": {},
   "outputs": [],
   "source": [
    "import pandas as pd\n",
    "import numpy as np\n",
    "import scipy.stats as stats\n",
    "import matplotlib.pyplot as plt"
   ]
  },
  {
   "cell_type": "code",
   "execution_count": 19,
   "id": "a09839c2",
   "metadata": {},
   "outputs": [],
   "source": [
    "np.random.seed(12)\n",
    "races = [\"asian\",\"black\",\"hispanic\",\"other\",\"white\"]\n",
    "\n",
    "voter_race = np.random.choice(a = races,\n",
    "                             p = [0.05,0.15,0.25,0.05,0.5],\n",
    "                             size = 1000)\n",
    "voter_age = stats.poisson.rvs(loc = 18,\n",
    "                             mu = 30,\n",
    "                             size = 1000)"
   ]
  },
  {
   "cell_type": "code",
   "execution_count": 20,
   "id": "25576051",
   "metadata": {},
   "outputs": [],
   "source": [
    "df = pd.DataFrame({\"race\":voter_race,\"age\":voter_age})"
   ]
  },
  {
   "cell_type": "code",
   "execution_count": 21,
   "id": "e6d77724",
   "metadata": {},
   "outputs": [],
   "source": [
    "groups = df.groupby(\"race\").groups"
   ]
  },
  {
   "cell_type": "code",
   "execution_count": 22,
   "id": "5cf408b9",
   "metadata": {},
   "outputs": [],
   "source": [
    "asian = voter_age[groups[\"asian\"]]\n",
    "black = voter_age[groups[\"black\"]]\n",
    "hispanic = voter_age[groups[\"hispanic\"]]\n",
    "white = voter_age[groups[\"white\"]]\n",
    "other = voter_age[groups[\"other\"]]"
   ]
  },
  {
   "cell_type": "markdown",
   "id": "3ad07d19",
   "metadata": {},
   "source": [
    "The test statistic (1.7744689357329695) indicates the degree of difference among the means of the groups being compared. Larger values of the test statistic suggest greater differences among the group means."
   ]
  },
  {
   "cell_type": "markdown",
   "id": "8d91e3c4",
   "metadata": {},
   "source": [
    "***So P value is very high compared to 0.05 so there is no any significance between the groups and they are not rejecting null hypothesis***"
   ]
  },
  {
   "cell_type": "code",
   "execution_count": 23,
   "id": "4350376d",
   "metadata": {},
   "outputs": [
    {
     "data": {
      "text/plain": [
       "F_onewayResult(statistic=1.7744689357329695, pvalue=0.13173183201930463)"
      ]
     },
     "execution_count": 23,
     "metadata": {},
     "output_type": "execute_result"
    }
   ],
   "source": [
    "stats.f_oneway(asian,black,hispanic,white,other)"
   ]
  },
  {
   "cell_type": "code",
   "execution_count": null,
   "id": "b5b8bcd7",
   "metadata": {},
   "outputs": [],
   "source": []
  },
  {
   "cell_type": "code",
   "execution_count": null,
   "id": "3f35fd2d",
   "metadata": {},
   "outputs": [],
   "source": []
  }
 ],
 "metadata": {
  "kernelspec": {
   "display_name": "Python 3 (ipykernel)",
   "language": "python",
   "name": "python3"
  },
  "language_info": {
   "codemirror_mode": {
    "name": "ipython",
    "version": 3
   },
   "file_extension": ".py",
   "mimetype": "text/x-python",
   "name": "python",
   "nbconvert_exporter": "python",
   "pygments_lexer": "ipython3",
   "version": "3.11.5"
  }
 },
 "nbformat": 4,
 "nbformat_minor": 5
}
